{
 "cells": [
  {
   "cell_type": "code",
   "execution_count": null,
   "id": "2a4cc6f4",
   "metadata": {},
   "outputs": [],
   "source": [
    "%matplotlib inline\n",
    "import matplotlib.pyplot as plt\n",
    "import pandas as pd\n",
    "import numpy as np\n",
    "import seaborn; seaborn.set()\n",
    "from sklearn.decomposition import PCA\n"
   ]
  },
  {
   "cell_type": "markdown",
   "id": "05706869",
   "metadata": {},
   "source": [
    "## Read input data"
   ]
  },
  {
   "cell_type": "code",
   "execution_count": null,
   "id": "3215165c",
   "metadata": {},
   "outputs": [],
   "source": [
    "casualty_df = pd.read_csv(\"dft-road-casualty-statistics-casualty-1979-2020.csv\")"
   ]
  },
  {
   "cell_type": "code",
   "execution_count": null,
   "id": "fce5e02c",
   "metadata": {},
   "outputs": [],
   "source": [
    "accident_df = pd.read_csv(\"dft-road-casualty-statistics-accident-1979-2020.csv\")"
   ]
  },
  {
   "cell_type": "code",
   "execution_count": null,
   "id": "f99e8534",
   "metadata": {},
   "outputs": [],
   "source": [
    "vehicles_df = pd.read_csv(\"dft-road-casualty-statistics-vehicle-1979-2020.csv\")"
   ]
  },
  {
   "cell_type": "code",
   "execution_count": null,
   "id": "f42270b0",
   "metadata": {},
   "outputs": [],
   "source": [
    "merged_left = pd.merge(left=accident_df, right=vehicles_df, how='left', left_on='accident_index', right_on='accident_index')"
   ]
  },
  {
   "cell_type": "code",
   "execution_count": null,
   "id": "5a59832d",
   "metadata": {},
   "outputs": [],
   "source": [
    "merged_left = pd.merge(left=merged_left, right=casualty_df, how='left', left_on='accident_index', right_on='accident_index')"
   ]
  },
  {
   "cell_type": "code",
   "execution_count": null,
   "id": "1563d041",
   "metadata": {},
   "outputs": [],
   "source": [
    "merged_left.shape"
   ]
  },
  {
   "cell_type": "code",
   "execution_count": null,
   "id": "c0eeb2a4",
   "metadata": {},
   "outputs": [],
   "source": [
    "merged_left.to_csv('all_uk_1979_2020_road_accidents.csv')"
   ]
  },
  {
   "cell_type": "code",
   "execution_count": null,
   "id": "2f943bd0",
   "metadata": {},
   "outputs": [],
   "source": [
    "merged_left = pd.read_csv(\"all_uk_1979_2020_road_accidents.csv\")\n",
    "merged_left = merged_left.drop('Unnamed: 0', axis = 1)"
   ]
  },
  {
   "cell_type": "code",
   "execution_count": null,
   "id": "cdc70a53",
   "metadata": {},
   "outputs": [],
   "source": [
    "all_data_post_2020 = merged_left.loc[merged_left['accident_year_x'] > 1999]"
   ]
  },
  {
   "cell_type": "code",
   "execution_count": null,
   "id": "d70ae125",
   "metadata": {},
   "outputs": [],
   "source": [
    "no_loc_df_post_2020 = all_data_post_2020.drop([\"accident_reference_x\", \"location_easting_osgr\", \"location_northing_osgr\", \"longitude\", \"latitude\"], axis=1)"
   ]
  },
  {
   "cell_type": "code",
   "execution_count": null,
   "id": "3308c0ae",
   "metadata": {},
   "outputs": [],
   "source": [
    "no_loc_df_post_2020.head()"
   ]
  },
  {
   "cell_type": "code",
   "execution_count": null,
   "id": "fa2030f5",
   "metadata": {},
   "outputs": [],
   "source": [
    "no_loc_df_post_2020.shape"
   ]
  },
  {
   "cell_type": "code",
   "execution_count": null,
   "id": "34031996",
   "metadata": {},
   "outputs": [],
   "source": [
    "no_loc_df_post_2020.sample(n=1000, random_state=1)\n"
   ]
  },
  {
   "cell_type": "code",
   "execution_count": null,
   "id": "647eb1ff",
   "metadata": {},
   "outputs": [],
   "source": [
    "clean_pca = PCA(n_components=8)\n",
    "principalComponents = clean_pca.fit_transform(no_loc_df_post_2020)\n",
    "principalDf = pd.DataFrame(data = principalComponents\n",
    "             )\n",
    "principalDf"
   ]
  },
  {
   "cell_type": "code",
   "execution_count": null,
   "id": "c4fb4baf",
   "metadata": {},
   "outputs": [],
   "source": [
    "pd.Series(clean_pca.explained_variance_ratio_).plot(logy=True)"
   ]
  }
 ],
 "metadata": {
  "kernelspec": {
   "display_name": "Python 3 (ipykernel)",
   "language": "python",
   "name": "python3"
  },
  "language_info": {
   "codemirror_mode": {
    "name": "ipython",
    "version": 3
   },
   "file_extension": ".py",
   "mimetype": "text/x-python",
   "name": "python",
   "nbconvert_exporter": "python",
   "pygments_lexer": "ipython3",
   "version": "3.8.11"
  }
 },
 "nbformat": 4,
 "nbformat_minor": 5
}
